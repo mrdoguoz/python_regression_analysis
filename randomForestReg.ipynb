{
 "cells": [
  {
   "cell_type": "code",
   "execution_count": 10,
   "metadata": {},
   "outputs": [
    {
     "name": "stderr",
     "output_type": "stream",
     "text": [
      "C:\\Users\\DOGUKA~1.OZG\\AppData\\Local\\Temp/ipykernel_16500/2965932465.py:17: DataConversionWarning: A column-vector y was passed when a 1d array was expected. Please change the shape of y to (n_samples,), for example using ravel().\n",
      "  rf.fit(x,y)\n"
     ]
    },
    {
     "name": "stdout",
     "output_type": "stream",
     "text": [
      "[76.  76.  76.  76.  76.  76.  76.  76.  76.  76.  76.  76.  76.  76.\n",
      " 76.  76.  76.  76.  76.  76.  76.  76.  76.  76.  76.  76.  76.  76.\n",
      " 76.  76.  76.  76.  76.  76.  76.  76.  76.  76.  76.  76.  76.  76.\n",
      " 76.  76.  76.  76.  76.  76.  76.  76.  76.  72.  72.  72.  72.  72.\n",
      " 72.  72.  72.  72.  72.  72.  72.  72.  72.  72.  72.  72.  72.  72.\n",
      " 72.  72.  72.  72.  72.  72.  72.  72.  72.  72.  72.  72.  72.  72.\n",
      " 72.  72.  72.  72.  72.  72.  72.  72.  72.  72.  72.  72.  72.  72.\n",
      " 72.  72.  72.  68.  68.  68.  68.  68.  68.  68.  68.  68.  68.  68.\n",
      " 68.  68.  68.  68.  68.  68.  68.  68.  68.  68.  68.  68.  68.  68.\n",
      " 68.  68.  68.  68.  68.  68.  68.  68.  68.  68.  68.  68.  68.  68.\n",
      " 68.  68.  68.  68.  68.  68.  68.  68.  68.  68.  68.  61.  61.  61.\n",
      " 61.  61.  61.  61.  61.  61.  61.  61.  61.  61.  61.  61.  61.  61.\n",
      " 61.  61.  61.  61.  61.  61.  61.  61.  61.  61.  61.  61.  61.  61.\n",
      " 61.  61.  61.  61.  61.  61.  61.  61.  61.  61.  61.  61.  61.  61.\n",
      " 61.  61.  61.  61.  61.  59.  59.  59.  59.  59.  59.  59.  59.  59.\n",
      " 59.  59.  59.  59.  59.  59.  59.  59.  59.  59.  59.  59.  59.  59.\n",
      " 59.  59.  59.  59.  59.  59.  59.  59.  59.  59.  59.  59.  59.  59.\n",
      " 59.  59.  59.  59.  59.  59.  59.  59.  59.  59.  59.  59.  59.  57.\n",
      " 57.  57.  57.  57.  57.  57.  57.  57.  57.  57.  57.  57.  57.  57.\n",
      " 57.  57.  57.  57.  57.  57.  57.  57.  57.  57.  57.  57.  57.  57.\n",
      " 57.  57.  57.  57.  57.  57.  57.  57.  57.  57.  57.  57.  57.  57.\n",
      " 57.  57.  57.  57.  57.  57.  57.  43.  43.  43.  43.  43.  43.  43.\n",
      " 43.  43.  43.  43.  43.  43.  43.  43.  43.  43.  43.  43.  43.  43.\n",
      " 43.  43.  43.  43.  43.  43.  43.  43.  43.  43.  43.  43.  43.  43.\n",
      " 43.  43.  43.  43.  43.  43.  43.  43.  43.  43.  43.  43.  43.  43.\n",
      " 43.  39.  39.  39.  39.  39.  39.  39.  39.  39.  39.  39.  39.  39.\n",
      " 39.  39.  39.  39.  39.  39.  39.  39.  39.  39.  39.  39.  39.  39.\n",
      " 39.  39.  39.  39.  39.  39.  39.  39.  39.  39.  39.  39.  39.  39.\n",
      " 39.  39.  39.  39.  39.  39.  39.  39.  39.  39.  39.  39.  39.  39.\n",
      " 39.  39.  39.  39.  39.  39.  39.  39.  39.  39.  39.  39.  39.  39.\n",
      " 39.  39.  39.  39.  39.  39.  39.  39.  39.  39.  39.  39.  39.  39.\n",
      " 39.  39.  39.  39.  39.  39.  39.  39.  39.  39.  39.  39.  39.  39.\n",
      " 39.  39.  39.  33.  33.  33.  33.  33.  33.  33.  33.  33.  33.  33.\n",
      " 33.  33.  33.  33.  33.  33.  33.  33.  33.  33.  33.  33.  33.  33.\n",
      " 33.  33.  33.  33.  33.  33.  33.  33.  33.  33.  33.  33.  33.  33.\n",
      " 33.  33.  33.  33.  33.  33.  33.  33.  33.  33.  33.  27.  27.  27.\n",
      " 27.  27.  27.  27.  27.  27.  27.  27.  27.  27.  27.  27.  27.  27.\n",
      " 27.  27.  27.  27.  27.  27.  27.  27.  27.  27.  27.  27.  27.  27.\n",
      " 27.  27.  27.  27.  27.  27.  27.  27.  27.  27.  27.  27.  27.  27.\n",
      " 27.  27.  27.  27.  27.  22.  22.  22.  22.  22.  22.  22.  22.  22.\n",
      " 22.  22.  22.  22.  22.  22.  22.  22.  22.  22.  22.  22.  22.  22.\n",
      " 22.  22.  22.  22.  22.  22.  22.  22.  22.  22.  22.  22.  22.  22.\n",
      " 22.  22.  22.  22.  22.  22.  22.  22.  22.  22.  22.  22.  22.  22.\n",
      " 22.  22.  22.  22.  22.  22.  22.  22.  22.  22.  22.  22.  22.  22.\n",
      " 22.  22.  22.  22.  22.  22.  22.  22.  22.  22.  22.  22.  22.  22.\n",
      " 22.  22.  22.  22.  22.  22.  22.  22.  22.  22.  22.  22.  22.  22.\n",
      " 22.  22.  22.  22.  22.  22.  22.  14.5 14.5 14.5 14.5 14.5 14.5 14.5\n",
      " 14.5 14.5 14.5 14.5 14.5 14.5 14.5 14.5 14.5 14.5 14.5 14.5 14.5 14.5\n",
      " 14.5 14.5 14.5 14.5 14.5 14.5 14.5 14.5 14.5 14.5 14.5 14.5 14.5 14.5\n",
      " 14.5 14.5 14.5 14.5 14.5 14.5 14.5 14.5 14.5 14.5 14.5 14.5 14.5 14.5\n",
      " 14.5 13.  13.  13.  13.  13.  13.  13.  13.  13.  13.  13.  13.  13.\n",
      " 13.  13.  13.  13.  13.  13.  13.  13.  13.  13.  13.  13.  13.  13.\n",
      " 13.  13.  13.  13.  13.  13.  13.  13.  13.  13.  13.  13.  13.  13.\n",
      " 13.  13.  13.  13.  13.  13.  13.  13.  13.  11.5 11.5 11.5 11.5 11.5\n",
      " 11.5 11.5 11.5 11.5 11.5 11.5 11.5 11.5 11.5 11.5 11.5 11.5 11.5 11.5\n",
      " 11.5 11.5 11.5 11.5 11.5 11.5 11.5 11.5 11.5 11.5 11.5 11.5 11.5 11.5\n",
      " 11.5 11.5 11.5 11.5 11.5 11.5 11.5 11.5 11.5 11.5 11.5 11.5 11.5 11.5\n",
      " 11.5 11.5]\n"
     ]
    },
    {
     "data": {
      "image/png": "[encoded data removed]",
      "text/plain": [
       "<Figure size 432x288 with 1 Axes>"
      ]
     },
     "metadata": {
      "needs_background": "light"
     },
     "output_type": "display_data"
    }
   ],
   "source": [
    "import numpy as np\n",
    "import pandas as pd\n",
    "import matplotlib.pyplot as plt\n",
    "\n",
    "data = pd.read_csv('dataset/dataset4.csv')\n",
    "\n",
    "x = data.iloc[:, 0].values.reshape(-1,1)\n",
    "\n",
    "y = data.iloc[:, 1].values.reshape(-1,1)\n",
    "\n",
    "#model\n",
    "from sklearn.ensemble import RandomForestRegressor\n",
    "\n",
    "rf = RandomForestRegressor(n_estimators=10,random_state=40)\n",
    "\n",
    "#fit\n",
    "rf.fit(x,y)\n",
    "\n",
    "#predict\n",
    "\n",
    "x2 = np.arange(min(x),max(x),0.01).reshape(-1,1)\n",
    "y_pred = rf.predict(x2)\n",
    "print(y_pred)\n",
    "\n",
    "#graph\n",
    "plt.scatter(x,y,color='r')\n",
    "plt.plot(x2,y_pred,color='b')\n",
    "plt.show()\n"
   ]
  }
 ],
 "metadata": {
  "interpreter": {
   "hash": "673cd5d0fb483daf4b79c08149f002b7d952ed429d426676d1c4bde369ae89e9"
  },
  "kernelspec": {
   "display_name": "Python 3.8.8 64-bit ('base': conda)",
   "language": "python",
   "name": "python3"
  },
  "language_info": {
   "codemirror_mode": {
    "name": "ipython",
    "version": 3
   },
   "file_extension": ".py",
   "mimetype": "text/x-python",
   "name": "python",
   "nbconvert_exporter": "python",
   "pygments_lexer": "ipython3",
   "version": "3.8.8"
  },
  "orig_nbformat": 4
 },
 "nbformat": 4,
 "nbformat_minor": 2
}
