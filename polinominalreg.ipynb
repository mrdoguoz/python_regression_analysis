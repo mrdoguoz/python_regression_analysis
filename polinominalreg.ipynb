{
 "cells": [
  {
   "cell_type": "code",
   "execution_count": 18,
   "metadata": {},
   "outputs": [
    {
     "ename": "AttributeError",
     "evalue": "'LinearRegression' object has no attribute 'summary'",
     "output_type": "error",
     "traceback": [
      "\u001b[1;31m---------------------------------------------------------------------------\u001b[0m",
      "\u001b[1;31mAttributeError\u001b[0m                            Traceback (most recent call last)",
      "\u001b[1;32mC:\\Users\\DOGUKA~1.OZG\\AppData\\Local\\Temp/ipykernel_10644/2978175563.py\u001b[0m in \u001b[0;36m<module>\u001b[1;34m\u001b[0m\n\u001b[0;32m     33\u001b[0m \u001b[0mreg\u001b[0m\u001b[1;33m.\u001b[0m\u001b[0mfit\u001b[0m\u001b[1;33m(\u001b[0m\u001b[0mx_polynominal\u001b[0m\u001b[1;33m,\u001b[0m\u001b[0mhiz\u001b[0m\u001b[1;33m)\u001b[0m\u001b[1;33m\u001b[0m\u001b[1;33m\u001b[0m\u001b[0m\n\u001b[0;32m     34\u001b[0m \u001b[1;33m\u001b[0m\u001b[0m\n\u001b[1;32m---> 35\u001b[1;33m \u001b[0mprint\u001b[0m\u001b[1;33m(\u001b[0m\u001b[0mreg\u001b[0m\u001b[1;33m.\u001b[0m\u001b[0mfit\u001b[0m\u001b[1;33m(\u001b[0m\u001b[0mx_polynominal\u001b[0m\u001b[1;33m,\u001b[0m\u001b[0mhiz\u001b[0m\u001b[1;33m)\u001b[0m\u001b[1;33m.\u001b[0m\u001b[0msummary\u001b[0m\u001b[1;33m(\u001b[0m\u001b[1;33m)\u001b[0m\u001b[1;33m)\u001b[0m\u001b[1;33m\u001b[0m\u001b[1;33m\u001b[0m\u001b[0m\n\u001b[0m\u001b[0;32m     36\u001b[0m \u001b[1;33m\u001b[0m\u001b[0m\n\u001b[0;32m     37\u001b[0m \u001b[1;33m\u001b[0m\u001b[0m\n",
      "\u001b[1;31mAttributeError\u001b[0m: 'LinearRegression' object has no attribute 'summary'"
     ]
    }
   ],
   "source": [
    "import numpy as np\n",
    "import pandas as pd\n",
    "import matplotlib.pyplot as plt\n",
    "\n",
    "\n",
    "data = pd.read_csv('dataset/dataset3.csv')\n",
    "\n",
    "fiyat = data['arabaFiyat'].values.reshape(-1,1)\n",
    "hiz = data[\"arabaMaxHiz\"].values.reshape(-1,1)\n",
    "\n",
    "#algorithm\n",
    "\n",
    "\n",
    "import sklearn.linear_model as lm\n",
    "from sklearn.preprocessing import PolynomialFeatures\n",
    "\n",
    "reg =lm.LinearRegression()\n",
    "polynominalReg = PolynomialFeatures(degree=4)\n",
    "\n",
    "#print(fiyat)\n",
    "x_polynominal = polynominalReg.fit_transform(fiyat,hiz)\n",
    "#print(x_polynominal)\n",
    "\n",
    "#print(x_polynominal.summary())\n",
    "\n",
    "\n",
    "#data split\n",
    "#import sklearn.model_selection as ms\n",
    "#x_train, x_test, y_train, y_test = ms.train_test_split(deneyim,maas, test_size=1/3,random_state=0)\n",
    "#polynominalReg.fit(x_train,y_train)\n",
    "\n",
    "#fit\n",
    "reg.fit(x_polynominal,hiz)\n",
    "\n",
    "print(reg.fit(x_polynominal,hiz).summary())\n",
    "\n",
    "\n",
    "#pred\n",
    "\n",
    "y_pred = reg.predict(x_polynominal)\n",
    "\n",
    "print(y_pred)\n",
    "\n",
    "from sklearn.metrics import r2_score\n",
    "\n",
    "score = r2_score(hiz,y_pred)\n",
    "print('score: ', score)\n",
    "\n",
    "'''\n",
    "x_polynominal_pred = polynominalReg.fit_transform([[1500]],hiz[0])\n",
    "y_pred = reg.predict(x_polynominal_pred)\n",
    "print(y_pred)\n",
    "'''\n",
    "\n",
    "\n",
    "#graph\n",
    "\n",
    "plt.plot(fiyat,y_pred,color='b',label='poly')\n",
    "\n",
    "plt.legend()\n",
    "plt.scatter(fiyat,hiz,color='r')\n",
    "plt.xlabel('Car Price')\n",
    "plt.ylabel('Max Speed')\n",
    "plt.show()\n",
    "\n"
   ]
  }
 ],
 "metadata": {
  "interpreter": {
   "hash": "673cd5d0fb483daf4b79c08149f002b7d952ed429d426676d1c4bde369ae89e9"
  },
  "kernelspec": {
   "display_name": "Python 3.8.8 64-bit ('base': conda)",
   "language": "python",
   "name": "python3"
  },
  "language_info": {
   "codemirror_mode": {
    "name": "ipython",
    "version": 3
   },
   "file_extension": ".py",
   "mimetype": "text/x-python",
   "name": "python",
   "nbconvert_exporter": "python",
   "pygments_lexer": "ipython3",
   "version": "3.8.8"
  },
  "orig_nbformat": 4
 },
 "nbformat": 4,
 "nbformat_minor": 2
}
