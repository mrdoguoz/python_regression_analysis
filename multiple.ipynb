{
 "cells": [
  {
   "cell_type": "code",
   "execution_count": 14,
   "id": "4f261258",
   "metadata": {},
   "outputs": [
    {
     "ename": "TypeError",
     "evalue": "'>' not supported between instances of 'method-wrapper' and 'int'",
     "output_type": "error",
     "traceback": [
      "\u001b[1;31m---------------------------------------------------------------------------\u001b[0m",
      "\u001b[1;31mTypeError\u001b[0m                                 Traceback (most recent call last)",
      "\u001b[1;32mC:\\Users\\DOGUKA~1.OZG\\AppData\\Local\\Temp/ipykernel_20640/1950442703.py\u001b[0m in \u001b[0;36m<module>\u001b[1;34m\u001b[0m\n\u001b[0;32m     14\u001b[0m \u001b[0mmm\u001b[0m \u001b[1;33m=\u001b[0m \u001b[0mmaas\u001b[0m\u001b[1;33m.\u001b[0m\u001b[0m__int__\u001b[0m\u001b[1;33m\u001b[0m\u001b[1;33m\u001b[0m\u001b[0m\n\u001b[0;32m     15\u001b[0m \u001b[1;33m\u001b[0m\u001b[0m\n\u001b[1;32m---> 16\u001b[1;33m \u001b[0mprint\u001b[0m\u001b[1;33m(\u001b[0m\u001b[1;33m[\u001b[0m\u001b[0mmm\u001b[0m\u001b[1;33m>\u001b[0m\u001b[1;36m10000\u001b[0m\u001b[1;33m]\u001b[0m\u001b[1;33m)\u001b[0m\u001b[1;33m\u001b[0m\u001b[1;33m\u001b[0m\u001b[0m\n\u001b[0m\u001b[0;32m     17\u001b[0m \u001b[1;31m#algorithm\u001b[0m\u001b[1;33m\u001b[0m\u001b[1;33m\u001b[0m\u001b[1;33m\u001b[0m\u001b[0m\n\u001b[0;32m     18\u001b[0m \u001b[1;33m\u001b[0m\u001b[0m\n",
      "\u001b[1;31mTypeError\u001b[0m: '>' not supported between instances of 'method-wrapper' and 'int'"
     ]
    }
   ],
   "source": [
    "import numpy as np\n",
    "import pandas as pd\n",
    "import matplotlib.pyplot as plt\n",
    "\n",
    "data = pd.read_csv('dataset/dataset2.csv')\n",
    "\n",
    "#print(data)\n",
    "#result = data.columns\n",
    "#print(result)\n",
    "\n",
    "deneyimYas = data.loc[:,['deneyim','yas']].values\n",
    "maas = data[\"maas\"].values.reshape(-1,1)\n",
    "\n",
    "#algorithm\n",
    "\n",
    "import sklearn.linear_model as lm\n",
    "\n",
    "reg = lm.LinearRegression()\n",
    "\n",
    "#data split\n",
    "import sklearn.model_selection as ms\n",
    "x_train, x_test, y_train, y_test = ms.train_test_split(deneyimYas,maas, test_size=1/3,random_state=0)\n",
    "\n",
    "reg.fit(x_train,y_train)\n",
    "\n",
    "#prediction\n",
    "\n",
    "y_pred = reg.predict(x_test)\n",
    "\n",
    "print(x_test)\n",
    "print(y_test)\n",
    "\n",
    "#score\n",
    "\n",
    "import sklearn.metrics as mt\n",
    "\n",
    "score = mt.r2_score(y_test,y_pred)\n",
    "\n",
    "print('r2: ' , score)\n",
    "\n",
    "#exit()\n",
    "#graph\n",
    "\n",
    "\n",
    "plt.scatter(deneyimYas[:,1],maas,color = 'r')\n",
    "plt.scatter(x_test[:,1],y_pred,color = 'b')\n",
    "plt.scatter(deneyimYas[:,0],maas,color = 'r')\n",
    "plt.scatter(x_test[:,0],y_pred,color = 'b')\n",
    "plt.show()\n",
    "\n"
   ]
  }
 ],
 "metadata": {
  "kernelspec": {
   "display_name": "Python 3",
   "language": "python",
   "name": "python3"
  },
  "language_info": {
   "codemirror_mode": {
    "name": "ipython",
    "version": 3
   },
   "file_extension": ".py",
   "mimetype": "text/x-python",
   "name": "python",
   "nbconvert_exporter": "python",
   "pygments_lexer": "ipython3",
   "version": "3.8.8"
  }
 },
 "nbformat": 4,
 "nbformat_minor": 5
}
